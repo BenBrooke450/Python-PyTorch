{
 "cells": [
  {
   "metadata": {},
   "cell_type": "markdown",
   "source": [
    "## Titanic_model_V1\n",
    "\n",
    "This NN is built for a Binary Classification, because we are using nn.BCEWithLogitsLoss → expects raw logits directly so we don't need to output a softmax"
   ],
   "id": "66d3fab4a414d3c0"
  },
  {
   "cell_type": "code",
   "execution_count": null,
   "id": "initial_id",
   "metadata": {
    "collapsed": true
   },
   "outputs": [],
   "source": [
    "import torch\n",
    "from torch import nn\n",
    "\n",
    "class Titanic_model_V1(nn.Module):\n",
    "    def __init__(self):\n",
    "        super().__init__()\n",
    "\n",
    "        self.layer1 = nn.Linear(5,20)\n",
    "        self.relu1 = nn.ReLU()\n",
    "        self.layer2 = nn.Linear(20,30)\n",
    "        self.relu2 = nn.ReLU()\n",
    "        self.layer3 = nn.Linear(30,1)\n",
    "\n",
    "    def forward(self,x):\n",
    "        return self.layer3(self.relu2(self.layer2(self.relu1(self.layer1(x)))))"
   ]
  }
 ],
 "metadata": {
  "kernelspec": {
   "display_name": "Python 3",
   "language": "python",
   "name": "python3"
  },
  "language_info": {
   "codemirror_mode": {
    "name": "ipython",
    "version": 2
   },
   "file_extension": ".py",
   "mimetype": "text/x-python",
   "name": "python",
   "nbconvert_exporter": "python",
   "pygments_lexer": "ipython2",
   "version": "2.7.6"
  }
 },
 "nbformat": 4,
 "nbformat_minor": 5
}
