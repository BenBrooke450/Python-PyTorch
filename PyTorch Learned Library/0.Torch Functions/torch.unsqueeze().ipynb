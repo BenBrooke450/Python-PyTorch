{
 "cells": [
  {
   "metadata": {},
   "cell_type": "markdown",
   "source": [
    "\n",
    "# **`torch.unsqueeze()` Summary**\n",
    "\n",
    "### **Definition**\n",
    "\n",
    "```python\n",
    "torch.unsqueeze(input, dim) → Tensor\n",
    "```\n",
    "\n",
    "Returns a new tensor with a dimension of size `1` inserted at the specified position `dim`.\n",
    "\n",
    "---\n",
    "\n",
    "# 1. Parameters\n",
    "\n",
    "| Parameter | Description                                                                                                     |\n",
    "| --------- | --------------------------------------------------------------------------------------------------------------- |\n",
    "| `input`   | The input tensor.                                                                                               |\n",
    "| `dim`     | The index at which to insert the new dimension. <br> - Can be negative (e.g., `-1` means “last dimension + 1”). |\n",
    "\n",
    "---\n",
    "\n",
    "# 2. Return Value\n",
    "\n",
    "* A **view** of the original tensor (no data copy).\n",
    "* The shape has one extra dimension of size `1`.\n",
    "\n",
    "---\n",
    "\n",
    "# 3. Examples\n",
    "\n",
    "### Example 1: Basic usage\n",
    "\n",
    "```python\n",
    "import torch\n",
    "\n",
    "x = torch.tensor([1, 2, 3, 4])   # shape: (4,)\n",
    "y = torch.unsqueeze(x, 0)        # add at dim=0\n",
    "print(y.shape)                   # torch.Size([1, 4])\n",
    "print(y)\n",
    "# tensor([[1, 2, 3, 4]])\n",
    "```\n",
    "\n",
    "---\n",
    "\n",
    "### Example 2: Add at the end\n",
    "\n",
    "```python\n",
    "z = torch.unsqueeze(x, -1)       # add at last dim\n",
    "print(z.shape)                   # torch.Size([4, 1])\n",
    "print(z)\n",
    "# tensor([[1],\n",
    "#         [2],\n",
    "#         [3],\n",
    "#         [4]])\n",
    "```\n",
    "\n",
    "---\n",
    "\n",
    "### Example 3: Multiple insertions\n",
    "\n",
    "```python\n",
    "x = torch.tensor([1, 2, 3])\n",
    "y = x.unsqueeze(0).unsqueeze(2)  # add at dim=0, then dim=2\n",
    "print(y.shape)                   # torch.Size([1, 3, 1])\n",
    "```\n",
    "\n",
    "---\n",
    "\n",
    "### Example 4: Negative indices\n",
    "\n",
    "```python\n",
    "x = torch.tensor([1, 2, 3])      # shape (3,)\n",
    "y = torch.unsqueeze(x, -1)       # add at end\n",
    "print(y.shape)                   # torch.Size([3, 1])\n",
    "```\n",
    "\n",
    "---\n",
    "\n",
    "# 4. Real-World Use Cases\n",
    "\n",
    "### a) Preparing input for models\n",
    "\n",
    "Most models expect inputs with a **batch dimension**:\n",
    "\n",
    "```python\n",
    "img = torch.rand(28, 28)         # shape (28,28)\n",
    "img = img.unsqueeze(0)           # shape (1,28,28) → batch of size 1\n",
    "```\n",
    "\n",
    "---\n",
    "\n",
    "### b) Broadcasting\n",
    "\n",
    "Align dimensions for operations:\n",
    "\n",
    "```python\n",
    "x = torch.tensor([1, 2, 3])      # shape (3,)\n",
    "y = torch.tensor([[10], [20]])   # shape (2,1)\n",
    "\n",
    "x = x.unsqueeze(0)               # shape (1,3)\n",
    "result = x + y                   # shape (2,3)\n",
    "print(result)\n",
    "```\n",
    "\n",
    "---\n",
    "\n",
    "### c) Expanding channels\n",
    "\n",
    "```python\n",
    "gray = torch.rand(64, 64)        # single-channel image\n",
    "gray = gray.unsqueeze(0)         # shape (1,64,64) → now it has a channel dimension\n",
    "```\n",
    "\n",
    "---\n",
    "\n",
    "# 5. Compare with `.view()` and `.reshape()`\n",
    "\n",
    "You could also reshape manually, but `unsqueeze` is **cleaner & safer**:\n",
    "\n",
    "```python\n",
    "x = torch.tensor([1, 2, 3])\n",
    "print(x.view(1, 3).shape)        # (1,3) → same as unsqueeze(0)\n",
    "print(x.view(3, 1).shape)        # (3,1) → same as unsqueeze(1)\n",
    "```\n",
    "\n",
    "---\n",
    "\n",
    "# 6. Compare with `squeeze()`\n",
    "\n",
    "| Function         | Purpose                         | Example          |\n",
    "| ---------------- | ------------------------------- | ---------------- |\n",
    "| `unsqueeze(dim)` | Adds a dimension of size `1`    | `(3,)` → `(1,3)` |\n",
    "| `squeeze(dim)`   | Removes a dimension if size `1` | `(1,3)` → `(3,)` |\n",
    "\n",
    "---\n",
    "\n",
    "\n",
    "\n",
    "# Quick Summary Table\n",
    "\n",
    "| Code              | Input Shape | Output Shape | Notes                       |\n",
    "| ----------------- | ----------- | ------------ | --------------------------- |\n",
    "| `x.unsqueeze(0)`  | `(N,)`      | `(1, N)`     | Add at front (batch dim)    |\n",
    "| `x.unsqueeze(1)`  | `(N,)`      | `(N, 1)`     | Add at second axis          |\n",
    "| `x.unsqueeze(-1)` | `(N,)`      | `(N, 1)`     | Add at end                  |\n",
    "| `x.unsqueeze(-2)` | `(N,)`      | `(1, N)`     | Same as dim=0 for 1D tensor |\n"
   ],
   "id": "1c95c2b7f9a6e822"
  },
  {
   "metadata": {
    "ExecuteTime": {
     "end_time": "2025-09-27T15:07:10.190075Z",
     "start_time": "2025-09-27T15:07:10.180726Z"
    }
   },
   "cell_type": "code",
   "source": "",
   "id": "e89dcaa70328140e",
   "outputs": [],
   "execution_count": null
  },
  {
   "metadata": {
    "ExecuteTime": {
     "end_time": "2025-09-27T15:07:10.206969Z",
     "start_time": "2025-09-27T15:07:10.196259Z"
    }
   },
   "cell_type": "code",
   "source": [
    "import torch\n",
    "\n",
    "torch.manual_seed(13)\n",
    "\n",
    "matrix = torch.randn(3,2)"
   ],
   "id": "4c6748b1f8ed7811",
   "outputs": [],
   "execution_count": 48
  },
  {
   "metadata": {
    "ExecuteTime": {
     "end_time": "2025-09-27T15:07:10.224473Z",
     "start_time": "2025-09-27T15:07:10.214159Z"
    }
   },
   "cell_type": "code",
   "source": "matrix",
   "id": "e77744a5493006ad",
   "outputs": [
    {
     "data": {
      "text/plain": [
       "tensor([[-0.1117, -1.1456],\n",
       "        [ 1.4103,  1.3654],\n",
       "        [ 1.1206, -0.9622]])"
      ]
     },
     "execution_count": 49,
     "metadata": {},
     "output_type": "execute_result"
    }
   ],
   "execution_count": 49
  },
  {
   "metadata": {
    "ExecuteTime": {
     "end_time": "2025-09-27T15:07:10.253575Z",
     "start_time": "2025-09-27T15:07:10.251569Z"
    }
   },
   "cell_type": "code",
   "source": "matrix_2 = torch.randint(low = 0, high = 100,size = (3,2))",
   "id": "890c0fe06b616c10",
   "outputs": [],
   "execution_count": 50
  },
  {
   "metadata": {
    "ExecuteTime": {
     "end_time": "2025-09-27T15:07:10.270702Z",
     "start_time": "2025-09-27T15:07:10.267002Z"
    }
   },
   "cell_type": "code",
   "source": "matrix_2",
   "id": "4ef608dfde288517",
   "outputs": [
    {
     "data": {
      "text/plain": [
       "tensor([[60,  6],\n",
       "        [94, 26],\n",
       "        [42,  9]])"
      ]
     },
     "execution_count": 51,
     "metadata": {},
     "output_type": "execute_result"
    }
   ],
   "execution_count": 51
  },
  {
   "metadata": {
    "ExecuteTime": {
     "end_time": "2025-09-27T15:07:10.278097Z",
     "start_time": "2025-09-27T15:07:10.275881Z"
    }
   },
   "cell_type": "code",
   "source": "matrix_2_unsqueezed_0 = matrix_2.unsqueeze(0)",
   "id": "7daa7fd5eaca1b8",
   "outputs": [],
   "execution_count": 52
  },
  {
   "metadata": {
    "ExecuteTime": {
     "end_time": "2025-09-27T15:07:10.303011Z",
     "start_time": "2025-09-27T15:07:10.299908Z"
    }
   },
   "cell_type": "code",
   "source": "matrix_2_unsqueezed_0",
   "id": "ebd04982dbad8123",
   "outputs": [
    {
     "data": {
      "text/plain": [
       "tensor([[[60,  6],\n",
       "         [94, 26],\n",
       "         [42,  9]]])"
      ]
     },
     "execution_count": 53,
     "metadata": {},
     "output_type": "execute_result"
    }
   ],
   "execution_count": 53
  },
  {
   "metadata": {
    "ExecuteTime": {
     "end_time": "2025-09-27T15:07:10.314715Z",
     "start_time": "2025-09-27T15:07:10.312859Z"
    }
   },
   "cell_type": "code",
   "source": "matrix_2_unsqueezed_1 = matrix_2.unsqueeze(1)",
   "id": "94cbd3578ba4439",
   "outputs": [],
   "execution_count": 54
  },
  {
   "metadata": {
    "ExecuteTime": {
     "end_time": "2025-09-27T15:07:10.330201Z",
     "start_time": "2025-09-27T15:07:10.327095Z"
    }
   },
   "cell_type": "code",
   "source": "matrix_2_unsqueezed_1",
   "id": "4088d75386dbd82e",
   "outputs": [
    {
     "data": {
      "text/plain": [
       "tensor([[[60,  6]],\n",
       "\n",
       "        [[94, 26]],\n",
       "\n",
       "        [[42,  9]]])"
      ]
     },
     "execution_count": 55,
     "metadata": {},
     "output_type": "execute_result"
    }
   ],
   "execution_count": 55
  },
  {
   "metadata": {},
   "cell_type": "markdown",
   "source": [
    "\n",
    "\n",
    "<br><br>\n",
    "\n"
   ],
   "id": "df833c5720b50e98"
  }
 ],
 "metadata": {
  "kernelspec": {
   "name": "conda-base-py",
   "language": "python",
   "display_name": "Python [conda env:base] *"
  }
 },
 "nbformat": 4,
 "nbformat_minor": 5
}
