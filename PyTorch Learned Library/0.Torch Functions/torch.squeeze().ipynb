{
 "cells": [
  {
   "metadata": {
    "ExecuteTime": {
     "end_time": "2025-09-27T14:40:27.005497Z",
     "start_time": "2025-09-27T14:40:27.003032Z"
    }
   },
   "cell_type": "code",
   "source": "",
   "id": "e89dcaa70328140e",
   "outputs": [],
   "execution_count": null
  },
  {
   "metadata": {
    "ExecuteTime": {
     "end_time": "2025-09-27T14:40:43.524991Z",
     "start_time": "2025-09-27T14:40:43.514452Z"
    }
   },
   "cell_type": "code",
   "source": [
    "import torch\n",
    "\n",
    "torch.manual_seed(13)\n",
    "\n",
    "matrix = torch.randn(3,2)"
   ],
   "id": "4c6748b1f8ed7811",
   "outputs": [],
   "execution_count": 4
  },
  {
   "metadata": {
    "ExecuteTime": {
     "end_time": "2025-09-27T14:40:46.194110Z",
     "start_time": "2025-09-27T14:40:46.188646Z"
    }
   },
   "cell_type": "code",
   "source": "matrix",
   "id": "e77744a5493006ad",
   "outputs": [
    {
     "data": {
      "text/plain": [
       "tensor([[-0.1117, -1.1456],\n",
       "        [ 1.4103,  1.3654],\n",
       "        [ 1.1206, -0.9622]])"
      ]
     },
     "execution_count": 7,
     "metadata": {},
     "output_type": "execute_result"
    }
   ],
   "execution_count": 7
  },
  {
   "metadata": {
    "ExecuteTime": {
     "end_time": "2025-09-27T14:46:41.821559Z",
     "start_time": "2025-09-27T14:46:41.816091Z"
    }
   },
   "cell_type": "code",
   "source": "matrix_2 = torch.randint(low = 0, high = 100,size = (3,2))",
   "id": "890c0fe06b616c10",
   "outputs": [],
   "execution_count": 20
  }
 ],
 "metadata": {
  "kernelspec": {
   "name": "conda-base-py",
   "language": "python",
   "display_name": "Python [conda env:base] *"
  }
 },
 "nbformat": 4,
 "nbformat_minor": 5
}
