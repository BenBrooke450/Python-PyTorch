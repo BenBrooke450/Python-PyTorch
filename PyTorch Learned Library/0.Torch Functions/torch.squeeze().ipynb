{
 "cells": [
  {
   "metadata": {},
   "cell_type": "markdown",
   "source": [
    "# **`torch.squeeze()` Summary**\n",
    "\n",
    "\n",
    "\n",
    "## 1. **Definition**\n",
    "\n",
    "```python\n",
    "torch.squeeze(input, dim=None) → Tensor\n",
    "```\n",
    "\n",
    "Removes dimensions of size **1** (singleton dimensions) from a tensor’s shape.\n",
    "It’s the inverse of `unsqueeze()`, which adds singleton dimensions.\n",
    "\n",
    "\n",
    "<br>\n",
    "\n",
    "\n",
    "## 2. **Parameters**\n",
    "\n",
    "| Parameter          | Description                                                                                                            |\n",
    "| ------------------ | ---------------------------------------------------------------------------------------------------------------------- |\n",
    "| `input`            | The input tensor.                                                                                                      |\n",
    "| `dim` *(optional)* | If given, only removes that specific dimension **if its size = 1**. If the size ≠ 1, the tensor is returned unchanged. |\n",
    "| *(no dim)*         | Removes **all** singleton dimensions.                                                                                  |\n",
    "\n",
    "<br>\n",
    "\n",
    "## 3. **Return Value**\n",
    "\n",
    "* A **view** of the original tensor (no data copied).\n",
    "* Shape has fewer dimensions (if any size=1 axes were removed).\n",
    "* Data remains unchanged.\n",
    "\n",
    "<br>\n",
    "\n",
    "## 4. **Examples**\n",
    "\n",
    "### Example 1: Remove all size-1 dims\n",
    "\n",
    "```python\n",
    "import torch\n",
    "\n",
    "x = torch.zeros(1, 3, 1, 5)   # shape (1,3,1,5)\n",
    "y = torch.squeeze(x)\n",
    "\n",
    "print(y.shape)   # torch.Size([3, 5])\n",
    "```\n",
    "\n",
    "Explanation: Removed **dim=0** and **dim=2** (both had size 1).\n",
    "\n",
    "<br>\n",
    "\n",
    "### Example 2: Remove only a specific dim\n",
    "\n",
    "```python\n",
    "x = torch.zeros(1, 3, 1, 5)\n",
    "\n",
    "y = torch.squeeze(x, dim=0)   # remove dim=0\n",
    "print(y.shape)                # torch.Size([3, 1, 5])\n",
    "\n",
    "z = torch.squeeze(x, dim=1)   # dim=1 has size 3 → unchanged\n",
    "print(z.shape)                # torch.Size([1, 3, 1, 5])\n",
    "```\n",
    "\n",
    "<br>\n",
    "\n",
    "### Example 3: No singleton dims → unchanged\n",
    "\n",
    "```python\n",
    "x = torch.tensor([[1, 2], [3, 4]])   # shape (2,2)\n",
    "y = x.squeeze()\n",
    "\n",
    "print(y.shape)  # torch.Size([2,2]) → nothing removed\n",
    "```\n",
    "\n",
    "<br>\n",
    "\n",
    "### Example 4: Negative dim\n",
    "\n",
    "```python\n",
    "x = torch.zeros(2, 1, 4)\n",
    "y = torch.squeeze(x, dim=-2)  # -2 → second-to-last axis\n",
    "print(y.shape)                # torch.Size([2, 4])\n",
    "```\n",
    "\n",
    "<br>\n",
    "\n",
    "## 5. **Real-World Use Cases**\n",
    "\n",
    "### a) Removing batch or channel dimensions\n",
    "\n",
    "Models often output extra singleton dims:\n",
    "\n",
    "```python\n",
    "output = torch.randn(1, 10, 1, 1)  # (batch=1, classes=10, 1, 1)\n",
    "output = output.squeeze()          # (10,) → clean vector\n",
    "```\n",
    "\n",
    "<br>\n",
    "\n",
    "### b) After slicing/indexing\n",
    "\n",
    "Indexing sometimes leaves an extra `1`:\n",
    "\n",
    "```python\n",
    "x = torch.rand(5, 1, 10)\n",
    "print(x[:, 0, :].shape)   # (5, 10) → already squeezed by indexing\n",
    "\n",
    "y = x.squeeze(1)          # removes explicit dim=1\n",
    "print(y.shape)            # (5, 10)\n",
    "```\n",
    "\n",
    "<br>\n",
    "\n",
    "### c) Preparing data for loss functions\n",
    "\n",
    "Some loss functions expect `(N,)` instead of `(N,1)`:\n",
    "\n",
    "```python\n",
    "labels = torch.tensor([[0], [1], [2]])   # shape (3,1)\n",
    "labels = labels.squeeze(1)               # shape (3,)\n",
    "```\n",
    "\n",
    "<br>\n",
    "\n",
    "## 6. **Comparison with Related Functions**\n",
    "\n",
    "| Function         | Purpose                | Example                            |\n",
    "| ---------------- | ---------------------- | ---------------------------------- |\n",
    "| `squeeze()`      | Removes singleton dims | `(1, 3, 1, 5)` → `(3, 5)`          |\n",
    "| `unsqueeze(dim)` | Adds a singleton dim   | `(3, 5)` → `(1, 3, 5)`             |\n",
    "| `reshape()`      | General reshaping      | `(1, 3, 1, 5)` → `(3, 5)` (manual) |\n",
    "\n",
    "<br>\n",
    "\n",
    "## 7. **Important Notes**\n",
    "\n",
    "* ❗ If `dim` is specified but that axis is not size 1, the tensor is returned unchanged.\n",
    "* ❗ Since it’s a **view**, modifying one affects the other (unless `.clone()` is used).\n",
    "* ✅ Works with any dtype (`int`, `float`, `bool`) and on both CPU/GPU.\n",
    "\n",
    "<br>\n",
    "\n",
    "## 8. **Quick Reference Table**\n",
    "\n",
    "| Input Shape    | Code            | Output Shape | Explanation                |\n",
    "| -------------- | --------------- | ------------ | -------------------------- |\n",
    "| `(1, 3, 1, 5)` | `x.squeeze()`   | `(3, 5)`     | Remove all singleton dims  |\n",
    "| `(1, 3, 1, 5)` | `x.squeeze(0)`  | `(3, 1, 5)`  | Remove only dim=0          |\n",
    "| `(1, 3, 1, 5)` | `x.squeeze(2)`  | `(1, 3, 5)`  | Remove only dim=2          |\n",
    "| `(2, 3, 5)`    | `x.squeeze()`   | `(2, 3, 5)`  | Nothing removed            |\n",
    "| `(2, 1, 4)`    | `x.squeeze(-2)` | `(2, 4)`     | Remove second-to-last axis |\n",
    "\n",
    "<br>\n",
    "\n",
    " **In short:**\n",
    "\n",
    "* `.squeeze()` → gets rid of “empty” axes (`size=1`).\n",
    "* Useful for **cleaning up shapes** in DL pipelines (batch/channel/loss prep).\n",
    "* The opposite of `.unsqueeze()`.\n",
    "\n"
   ],
   "id": "f2e1a873cc026a03"
  },
  {
   "metadata": {
    "ExecuteTime": {
     "end_time": "2025-09-27T15:37:56.344866Z",
     "start_time": "2025-09-27T15:37:56.325147Z"
    }
   },
   "cell_type": "code",
   "source": [
    "import torch\n",
    "\n",
    "torch.manual_seed(42)\n",
    "\n",
    "matrix_2 = torch.randint(low=0,high=30,size=(1,3,3))\n",
    "\n",
    "matrix_2"
   ],
   "id": "ddd1d6426e1615ae",
   "outputs": [
    {
     "data": {
      "text/plain": [
       "tensor([[[12, 17, 16],\n",
       "         [ 4,  6,  5],\n",
       "         [10, 14, 10]]])"
      ]
     },
     "execution_count": 79,
     "metadata": {},
     "output_type": "execute_result"
    }
   ],
   "execution_count": 79
  },
  {
   "metadata": {
    "ExecuteTime": {
     "end_time": "2025-09-27T15:37:58.333204Z",
     "start_time": "2025-09-27T15:37:58.329949Z"
    }
   },
   "cell_type": "code",
   "source": "squeeze_matrix = matrix_2.squeeze()",
   "id": "c6000237ba56eb74",
   "outputs": [],
   "execution_count": 80
  },
  {
   "metadata": {
    "ExecuteTime": {
     "end_time": "2025-09-27T15:37:59.657641Z",
     "start_time": "2025-09-27T15:37:59.653490Z"
    }
   },
   "cell_type": "code",
   "source": "squeeze_matrix",
   "id": "fcc2fc8467f9f732",
   "outputs": [
    {
     "data": {
      "text/plain": [
       "tensor([[12, 17, 16],\n",
       "        [ 4,  6,  5],\n",
       "        [10, 14, 10]])"
      ]
     },
     "execution_count": 81,
     "metadata": {},
     "output_type": "execute_result"
    }
   ],
   "execution_count": 81
  },
  {
   "metadata": {},
   "cell_type": "markdown",
   "source": "<br><br><br>",
   "id": "64469356decbe755"
  },
  {
   "metadata": {},
   "cell_type": "markdown",
   "source": "If we take the example below where there is no 1 dimension present within the matrix, then squeeze removes nothing.",
   "id": "7162ed8c020ec212"
  },
  {
   "metadata": {
    "ExecuteTime": {
     "end_time": "2025-09-27T15:38:42.612590Z",
     "start_time": "2025-09-27T15:38:42.602412Z"
    }
   },
   "cell_type": "code",
   "source": [
    "matrix_2 = torch.randint(low=0,high=30,size=(2,3,3))\n",
    "\n",
    "matrix_2"
   ],
   "id": "6d1b1f34c505e1de",
   "outputs": [
    {
     "data": {
      "text/plain": [
       "tensor([[[23, 28,  4],\n",
       "         [20, 24, 21],\n",
       "         [22,  5, 25]],\n",
       "\n",
       "        [[27, 16, 19],\n",
       "         [26, 13, 11],\n",
       "         [29, 13, 11]]])"
      ]
     },
     "execution_count": 82,
     "metadata": {},
     "output_type": "execute_result"
    }
   ],
   "execution_count": 82
  },
  {
   "metadata": {
    "ExecuteTime": {
     "end_time": "2025-09-27T15:40:44.470241Z",
     "start_time": "2025-09-27T15:40:44.464280Z"
    }
   },
   "cell_type": "code",
   "source": [
    "squeeze_matrix = matrix_2.squeeze()\n",
    "\n",
    "squeeze_matrix"
   ],
   "id": "cf58f1cbc90d6cb8",
   "outputs": [
    {
     "data": {
      "text/plain": [
       "tensor([[[23, 28,  4],\n",
       "         [20, 24, 21],\n",
       "         [22,  5, 25]],\n",
       "\n",
       "        [[27, 16, 19],\n",
       "         [26, 13, 11],\n",
       "         [29, 13, 11]]])"
      ]
     },
     "execution_count": 84,
     "metadata": {},
     "output_type": "execute_result"
    }
   ],
   "execution_count": 84
  },
  {
   "metadata": {},
   "cell_type": "markdown",
   "source": "<br>",
   "id": "83494ca4244cf8b"
  },
  {
   "metadata": {},
   "cell_type": "markdown",
   "source": "Let's take two more examples",
   "id": "206c4c9fba527a0c"
  },
  {
   "metadata": {
    "ExecuteTime": {
     "end_time": "2025-09-27T15:58:14.325405Z",
     "start_time": "2025-09-27T15:58:14.318492Z"
    }
   },
   "cell_type": "code",
   "source": [
    "labels_1 = torch.tensor([[0], [1], [2]]) # shape (3,1)\n",
    "print(\"Shape:  \",labels_1.shape)\n",
    "print(\"Dim:  \",labels_1.ndim)\n",
    "print(labels_1)\n",
    "\n",
    "print(\" \")\n",
    "\n",
    "labels_2 = labels_1.squeeze(1)\n",
    "print(\"Shape:  \",labels_2.shape)\n",
    "print(\"Dim:  \",labels_2.ndim)\n",
    "print(labels_2)\n",
    "\n"
   ],
   "id": "747b7df5c75326b3",
   "outputs": [
    {
     "name": "stdout",
     "output_type": "stream",
     "text": [
      "Shape:   torch.Size([3, 1])\n",
      "Dim:   2\n",
      "tensor([[0],\n",
      "        [1],\n",
      "        [2]])\n",
      " \n",
      "Shape:   torch.Size([3])\n",
      "Dim:   1\n",
      "tensor([0, 1, 2])\n"
     ]
    }
   ],
   "execution_count": 101
  },
  {
   "metadata": {},
   "cell_type": "markdown",
   "source": "<br>",
   "id": "68e0189cfacde663"
  },
  {
   "metadata": {},
   "cell_type": "markdown",
   "source": "<br>",
   "id": "348e978c65dd490c"
  },
  {
   "metadata": {
    "ExecuteTime": {
     "end_time": "2025-09-27T15:57:31.726870Z",
     "start_time": "2025-09-27T15:57:31.722074Z"
    }
   },
   "cell_type": "code",
   "source": [
    "labels_1 = torch.tensor([0, 1, 2]) # shape (1,3)\n",
    "print(\"Shape:  \",labels_1.shape)\n",
    "print(\"Dim:  \",labels_1.ndim)\n",
    "print(labels_1)\n",
    "\n",
    "print(\" \")\n",
    "\n",
    "labels_2 = labels_1.squeeze()\n",
    "print(\"Shape:  \",labels_2.shape)\n",
    "print(\"Dim:  \",labels_2.ndim)\n",
    "print(labels_2)"
   ],
   "id": "4175871cc3629c07",
   "outputs": [
    {
     "name": "stdout",
     "output_type": "stream",
     "text": [
      "Shape:   torch.Size([3])\n",
      "Dim:   1\n",
      "tensor([0, 1, 2])\n",
      " \n",
      "Shape:   torch.Size([3])\n",
      "Dim:   1\n",
      "tensor([0, 1, 2])\n"
     ]
    }
   ],
   "execution_count": 98
  },
  {
   "metadata": {},
   "cell_type": "markdown",
   "source": [
    "\n",
    "\n",
    "## Why `[0, 1, 2]` doesn’t have shape `(1, 3)`\n",
    "\n",
    "* `[0, 1, 2]` in Python is just a **list**, not a tensor or NumPy array.\n",
    "* Python lists **don’t have a `.shape` attribute** — they’re just generic containers.\n",
    "\n",
    "So:\n",
    "\n",
    "```python\n",
    "lst = [0, 1, 2]\n",
    "print(type(lst))   # <class 'list'>\n",
    "```\n",
    "\n",
    "A list is **one-dimensional** by construction. It’s simply \"3 elements in a row\". There is no explicit `(rows, cols)` concept.\n",
    "\n",
    "---\n",
    "\n",
    "## What happens in PyTorch\n",
    "\n",
    "If you convert it to a tensor:\n",
    "\n",
    "```python\n",
    "import torch\n",
    "\n",
    "x = torch.tensor([0, 1, 2])\n",
    "print(x.shape)     # torch.Size([3])\n",
    "```\n",
    "\n",
    "This is **1D with length 3**, not `(1, 3)`.\n",
    "\n",
    "---\n",
    "\n",
    "## How to make it `(1, 3)`\n",
    "\n",
    "If you want a **2D row vector** instead of a 1D vector:\n",
    "\n",
    "```python\n",
    "x = torch.tensor([[0, 1, 2]])\n",
    "print(x.shape)    # torch.Size([1, 3])\n",
    "```\n",
    "\n",
    "* `[0, 1, 2]` → shape `(3,)` (1D, 3 elements).\n",
    "* `[[0, 1, 2]]` → shape `(1, 3)` (2D, 1 row × 3 columns).\n",
    "\n",
    "---\n",
    "\n",
    "## Rule of Thumb\n",
    "\n",
    "* **Single brackets `[ ]`** → 1D list/tensor.\n",
    "* **Double brackets `[[ ]]`** → 2D matrix.\n",
    "\n",
    "---\n",
    "\n",
    "**In short:** `[0, 1, 2]` is a **1D sequence of 3 elements** → shape `(3,)`.\n",
    "If you want `(1, 3)`, you need to wrap it in another list or use `.unsqueeze(0)`.\n",
    "\n"
   ],
   "id": "306d35ac86ba59a3"
  }
 ],
 "metadata": {
  "kernelspec": {
   "name": "conda-base-py",
   "language": "python",
   "display_name": "Python [conda env:base] *"
  }
 },
 "nbformat": 4,
 "nbformat_minor": 5
}
